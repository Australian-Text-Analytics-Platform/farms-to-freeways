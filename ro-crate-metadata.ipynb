{
 "cells": [
  {
   "cell_type": "markdown",
   "id": "a649fe41",
   "metadata": {},
   "source": [
    "# Reading an ro-crate metadata file\n",
    "\n",
    "The Language Data Commons of Australia (LDaCa) packages all their data collections in an [ro-crate](https://www.researchobject.org/ro-crate/). There is a metadata file called `ro-crate-metadata.json` that comes with every data collection and this is how we can obtain metadata on this collection of research objects.\n",
    "\n",
    "The metadata file is in the json format, and so we'll be learning how to read a json file in this notebook."
   ]
  },
  {
   "cell_type": "markdown",
   "id": "ab9d0ea0",
   "metadata": {},
   "source": [
    "<div class=\"alert alert-block alert-success\">\n",
    "<b>Skills</b> \n",
    "    \n",
    "<ul>\n",
    "<li> json file format (see https://en.wikipedia.org/wiki/JSON)</li>\n",
    "<li> working with dataframes, via pandas</li>\n",
    "<li> discovering and exploring metadata</li>\n",
    "<li> extracting ngrams, via textacy</li>\n",
    "</ul>    \n",
    "<br>\n",
    "\n",
    "<b>Skill level:</b> Intermediate\n",
    "</div>"
   ]
  },
  {
   "cell_type": "markdown",
   "id": "0638388c",
   "metadata": {},
   "source": [
    "This notebook uses the library 'requests', as shown in the [Using APIs: Open Australia](https://github.com/Australian-Text-Analytics-Platform/open-australia-api/blob/main/api.ipynb) notebook. If you haven't already familiarised yourself with that notebook, it might be a good idea to do so first."
   ]
  },
  {
   "cell_type": "code",
   "execution_count": null,
   "id": "86767334",
   "metadata": {},
   "outputs": [],
   "source": [
    "# Before we begin, let's make sure that we install all the requirements that we need\n",
    "import sys\n",
    "!{sys.executable} -m pip install -r requirements.txt"
   ]
  },
  {
   "cell_type": "markdown",
   "id": "f3a74abd",
   "metadata": {},
   "source": [
    "## Import libraries\n",
    "\n",
    "Python needs the libraries that will be used by the notebook to be specified before they are used. We do this with the reserved word `import`, as shown below."
   ]
  },
  {
   "cell_type": "code",
   "execution_count": 1,
   "id": "31e66c66",
   "metadata": {},
   "outputs": [],
   "source": [
    "import json          # json library to read json file formats\n",
    "import pprint        # prints in a nice way\n",
    "import requests      # uses the requests library for REST apis"
   ]
  },
  {
   "cell_type": "markdown",
   "id": "690ff0a7",
   "metadata": {},
   "source": [
    "## Variables \n",
    "\n",
    "We need to specify the path to the data collection. This `Farms to Freeways` data collection was used with permission by [The University of Western Sydney](https://omeka.uws.edu.au/farmstofreeways/). It was made into an ro-crate by the [LDaCa](https://ardc.edu.au/project/language-data-commons-of-australia-ldaca/) project and it is the data set used here to demonstrate the skills list above.\n",
    "\n",
    "The variables below refer to the `path` where the collection can be found. There are also variables below that refer to ro-crates as specified in LDaCa profiles, for example all artefacts of importances are called `RepositoryObject`, and when an artefact is linked to, it is done with a `hadFile` keyword in the ro-crate metadata file."
   ]
  },
  {
   "cell_type": "code",
   "execution_count": null,
   "id": "afb53776",
   "metadata": {},
   "outputs": [],
   "source": [
    "# Specify location where collection is\n",
    "LDACA_API = 'https://oni-dev.text-commons.org/data'\n",
    "COLLECTION_NAME = 'Farms to Freeways Example Dataset'\n",
    "\n",
    "# Get the list of datasets available\n",
    "all_response = requests.get(LDACA_API)\n",
    "all_data = all_response.json()\n",
    "\n",
    "# Find the arcpId for 'Farms to Freeways Example Dataset'\n",
    "arcpId = str()\n",
    "for data in all_data['data']:\n",
    "    if data['name'] == COLLECTION_NAME:\n",
    "        arcpId = data['arcpId']\n",
    "\n",
    "# Get the Farms to Freeways ro-crate metadata by passing the arcpId in as a parameter to the get request\n",
    "params = dict()\n",
    "params['id'] = arcpId\n",
    "f2f_response = requests.get(LDACA_API, params=params)\n",
    "metadata = f2f_response.json()\n",
    "\n",
    "# Inspect the metadata\n",
    "metadata"
   ]
  },
  {
   "cell_type": "markdown",
   "id": "fc8fc57b",
   "metadata": {},
   "source": [
    "### ro-crate Profiles\n",
    "\n",
    "An ro-crate profile is a set of conventions that tell us what elements an ro-crate minimally contains.\n",
    "\n",
    "These profiles tell us what to expect to find in the data packages. Learn more about them here: https://www.researchobject.org/ro-crate/profiles.html"
   ]
  },
  {
   "cell_type": "code",
   "execution_count": 3,
   "id": "eab8856b",
   "metadata": {},
   "outputs": [],
   "source": [
    "# Keywords from LDaCa ro-crate profiles\n",
    "OBJECT_LINKAGE = 'hasFile'\n",
    "GRAPH = '@graph'\n",
    "TYPE = '@type'\n",
    "ID = '@id'\n",
    "\n",
    "# TYPE values are lists. \n",
    "# We define a PRIMARY_OBJECT as a 'RepositoryObject' because that is where the main data is stored \n",
    "PRIMARY_OBJECT = 'RepositoryObject'"
   ]
  },
  {
   "cell_type": "markdown",
   "id": "a4dc7f87",
   "metadata": {},
   "source": [
    "### Define Variables to Gather Metadata\n",
    "\n",
    "As suggested above, there are '@types' that define certain objects within the collection, for example there is type called 'Person'. This json object stores information such as 'birthDate' about the 'Person'. In the code block below, we discover all the types stored in this metadata file. "
   ]
  },
  {
   "cell_type": "code",
   "execution_count": 4,
   "id": "64dcec6e",
   "metadata": {},
   "outputs": [],
   "source": [
    "# Find all types and find types that have linked objects\n",
    "linked_objects = set()\n",
    "types = list()\n",
    "primary_object_types = set()\n",
    "\n",
    "# Traverse through all the objects in the metadata file\n",
    "for entity in metadata[GRAPH]:\n",
    "    my_type = entity[TYPE]\n",
    "    if type(my_type) == str:\n",
    "        my_type = [my_type]\n",
    "    if my_type not in types:\n",
    "        types.append(my_type)\n",
    "        \n",
    "    # [PRIMARY_OBJECT, X] : primary_object_type = X\n",
    "    if PRIMARY_OBJECT in my_type:\n",
    "        primary_object_type = [e for e in my_type if e not in [PRIMARY_OBJECT]][0]\n",
    "        primary_object_types.add(primary_object_type)\n",
    "\n",
    "        if OBJECT_LINKAGE in entity:\n",
    "            for x in entity[OBJECT_LINKAGE]:\n",
    "                filename = x[ID]\n",
    "                suffix = filename.split('.')[-1]\n",
    "                if suffix not in linked_objects:\n",
    "                    linked_objects.add((suffix, primary_object_type))"
   ]
  },
  {
   "cell_type": "markdown",
   "id": "6b5d7f74",
   "metadata": {},
   "source": [
    "### Flatten a list of lists using itertools\n",
    "\n",
    "The variable 'types' above is a list of lists and we will flatten it with itertools"
   ]
  },
  {
   "cell_type": "markdown",
   "id": "0aa84b12",
   "metadata": {},
   "source": [
    "<div class=\"alert alert-block alert-info\">\n",
    "<b>Python Library: itertools</b> \n",
    "    \n",
    "The itertools library allows you to iterate over lists without having list comprehension lines of explicit \"for loops\" in your code. A and B are equivalent to the code below.\n",
    "\n",
    "<br> \n",
    "    \n",
    "   \n",
    "(A)&emsp; flat_types = [t for sublist in types for t in sublist] \n",
    "\n",
    "<br>  \n",
    "\n",
    "(B) &emsp;flat_types = list()\n",
    "<br>\n",
    "&emsp;&emsp;&emsp;for sublist in types: \n",
    "<br>\n",
    "&emsp;&emsp; &emsp;&emsp;   for t in sublist:\n",
    "<br>\n",
    "&emsp;&emsp;&emsp; &emsp;&emsp;       flat_types.append(t) </br>\n",
    "</div>\n",
    "\n",
    "The following line of code does the following:\n",
    "    [[a, b], [c, d]] ==> [a, b, c, d]"
   ]
  },
  {
   "cell_type": "code",
   "execution_count": 5,
   "id": "91d4bf04",
   "metadata": {},
   "outputs": [],
   "source": [
    "import itertools     # `types` above is a list of lists and we will flatten it with itertools\n",
    "\n",
    "flat_types = list(itertools.chain.from_iterable(types))"
   ]
  },
  {
   "cell_type": "markdown",
   "id": "d613ed17",
   "metadata": {},
   "source": [
    "## Exploring the Metadata\n",
    "\n",
    "Anytime you work with data, it's always a good idea to inspect it by printing it out."
   ]
  },
  {
   "cell_type": "code",
   "execution_count": 6,
   "id": "8f64dc7e",
   "metadata": {},
   "outputs": [
    {
     "name": "stdout",
     "output_type": "stream",
     "text": [
      "[['ContactPoint'],\n",
      " ['Corpus', 'Dataset'],\n",
      " ['CreativeWork'],\n",
      " ['Dataset'],\n",
      " ['File'],\n",
      " ['File', 'OrthographicTranscription'],\n",
      " ['GeoCoordinates'],\n",
      " ['Organization'],\n",
      " ['Person'],\n",
      " ['Person', 'RepositoryObject'],\n",
      " ['Photographic image', 'RepositoryObject'],\n",
      " ['Place'],\n",
      " ['PropertyValue'],\n",
      " ['RepositoryCollection'],\n",
      " ['RepositoryObject', 'Text'],\n",
      " ['RepositoryObject', 'TextDialogue'],\n",
      " ['SubCorpus'],\n",
      " ['csvw:Column'],\n",
      " ['csvw:Schema'],\n",
      " ['rdf:Property'],\n",
      " ['rdfs:Class']]\n"
     ]
    }
   ],
   "source": [
    "# Print the variables\n",
    "# All the types\n",
    "pprint.pp(sorted(types))"
   ]
  },
  {
   "cell_type": "code",
   "execution_count": 7,
   "id": "31a61f5e",
   "metadata": {},
   "outputs": [
    {
     "name": "stdout",
     "output_type": "stream",
     "text": [
      "{'ContactPoint',\n",
      " 'Corpus',\n",
      " 'CreativeWork',\n",
      " 'Dataset',\n",
      " 'File',\n",
      " 'GeoCoordinates',\n",
      " 'Organization',\n",
      " 'OrthographicTranscription',\n",
      " 'Person',\n",
      " 'Photographic image',\n",
      " 'Place',\n",
      " 'PropertyValue',\n",
      " 'RepositoryCollection',\n",
      " 'RepositoryObject',\n",
      " 'SubCorpus',\n",
      " 'Text',\n",
      " 'TextDialogue',\n",
      " 'csvw:Column',\n",
      " 'csvw:Schema',\n",
      " 'rdf:Property',\n",
      " 'rdfs:Class'}\n"
     ]
    }
   ],
   "source": [
    "# All the unique types\n",
    "pprint.pp(set(flat_types))"
   ]
  },
  {
   "cell_type": "code",
   "execution_count": 8,
   "id": "0ae67a01",
   "metadata": {},
   "outputs": [
    {
     "name": "stdout",
     "output_type": "stream",
     "text": [
      "{'Photographic image', 'Person', 'Text', 'TextDialogue'}\n"
     ]
    }
   ],
   "source": [
    "# Types of PRIMARY_OBJECTs ie [PRIMARY_OBJECT, X]. What kinds of Xs do we have?\n",
    "print(primary_object_types)"
   ]
  },
  {
   "cell_type": "code",
   "execution_count": 9,
   "id": "7bb7f804",
   "metadata": {},
   "outputs": [
    {
     "name": "stdout",
     "output_type": "stream",
     "text": [
      "{('csv', 'TextDialogue'),\n",
      " ('jpg', 'Photographic image'),\n",
      " ('jpg', 'Text'),\n",
      " ('jpg', 'TextDialogue'),\n",
      " ('mp3', 'TextDialogue'),\n",
      " ('pdf', 'Text'),\n",
      " ('pdf', 'TextDialogue')}\n"
     ]
    }
   ],
   "source": [
    "# All the research artefacts/files their types\n",
    "pprint.pp(linked_objects)"
   ]
  },
  {
   "cell_type": "markdown",
   "id": "69a041dd",
   "metadata": {},
   "source": [
    "## Primary Objects\n",
    "\n",
    "The primary object types are the ones we may care about, so we will pull them into their own dataframe:"
   ]
  },
  {
   "cell_type": "markdown",
   "id": "2f94f3aa",
   "metadata": {},
   "source": [
    "<div class=\"alert alert-block alert-info\">\n",
    "<b>Python Library: pandas (dataframe)</b> \n",
    "\n",
    "<br>    \n",
    "    \n",
    "A dataframe is akin to a table -- it is made up of rows and columns. \n",
    "    \n",
    "<br>    \n",
    "In the block of code below, we are creating a dataframe for each \"primary_object_type\" ('Person', 'TextDialogue', 'Photographic image', and 'Text')\n",
    "</div>"
   ]
  },
  {
   "cell_type": "code",
   "execution_count": 10,
   "id": "a9e3e409",
   "metadata": {},
   "outputs": [],
   "source": [
    "import pandas as pd  # this means we will refer to pandas as 'pd' throughout the code\n",
    "\n",
    "all_data = dict()\n",
    "\n",
    "# traverse over all of the metadata\n",
    "for entity in metadata[GRAPH]:\n",
    "    for t in entity[TYPE]:\n",
    "        if t in primary_object_types:\n",
    "            df = pd.json_normalize(entity)\n",
    "            if t not in all_data:\n",
    "                all_data[t] = df\n",
    "            else:\n",
    "                all_data[t] = pd.concat([all_data[t], df])"
   ]
  },
  {
   "cell_type": "code",
   "execution_count": 11,
   "id": "eb59a8e1",
   "metadata": {},
   "outputs": [
    {
     "name": "stdout",
     "output_type": "stream",
     "text": [
      "dict_keys(['Text', 'Photographic image', 'Person', 'TextDialogue'])\n"
     ]
    }
   ],
   "source": [
    "print(all_data.keys())"
   ]
  },
  {
   "cell_type": "code",
   "execution_count": 12,
   "id": "6055e7d1",
   "metadata": {},
   "outputs": [
    {
     "name": "stdout",
     "output_type": "stream",
     "text": [
      "@id                                                      #interview-#427\n",
      "@type                                   [RepositoryObject, TextDialogue]\n",
      "name                                     Interview with Patricia Colless\n",
      "hasFile                [{'@id': 'https://oni-dev.text-commons.org/dat...\n",
      "dateCreated                                                   1991-09-12\n",
      "interviewer                                             Robyn Arrowsmith\n",
      "publisher                                   University of Western Sydney\n",
      "description            Patricia Colless was born on 1st April, 1922, ...\n",
      "speaker.@id                                                         #568\n",
      "contentLocation.@id    http://omeka.uws.edu.au/farmstofreeways/api/ge...\n",
      "Name: 0, dtype: object\n"
     ]
    }
   ],
   "source": [
    "# Print the first TextDialogue item \n",
    "text_dialogue = all_data['TextDialogue']\n",
    "\n",
    "print(text_dialogue.iloc[0])"
   ]
  },
  {
   "cell_type": "code",
   "execution_count": 13,
   "id": "3d51ca30",
   "metadata": {},
   "outputs": [
    {
     "data": {
      "text/html": [
       "<div>\n",
       "<style scoped>\n",
       "    .dataframe tbody tr th:only-of-type {\n",
       "        vertical-align: middle;\n",
       "    }\n",
       "\n",
       "    .dataframe tbody tr th {\n",
       "        vertical-align: top;\n",
       "    }\n",
       "\n",
       "    .dataframe thead th {\n",
       "        text-align: right;\n",
       "    }\n",
       "</style>\n",
       "<table border=\"1\" class=\"dataframe\">\n",
       "  <thead>\n",
       "    <tr style=\"text-align: right;\">\n",
       "      <th></th>\n",
       "      <th>@id</th>\n",
       "      <th>@type</th>\n",
       "      <th>birthDate</th>\n",
       "      <th>identifier</th>\n",
       "      <th>name</th>\n",
       "      <th>description</th>\n",
       "      <th>birthPlace</th>\n",
       "      <th>address</th>\n",
       "      <th>isPrimaryTopicOf.@id</th>\n",
       "      <th>authorOf.@id</th>\n",
       "      <th>relatedLink.@id</th>\n",
       "    </tr>\n",
       "  </thead>\n",
       "  <tbody>\n",
       "    <tr>\n",
       "      <th>0</th>\n",
       "      <td>#568</td>\n",
       "      <td>[Person, RepositoryObject]</td>\n",
       "      <td>1922</td>\n",
       "      <td>4 _Person</td>\n",
       "      <td>Patricia Colless</td>\n",
       "      <td>Patricia Colless was born on 1st April, 1922, ...</td>\n",
       "      <td>Croydon</td>\n",
       "      <td>Penrith</td>\n",
       "      <td>#339</td>\n",
       "      <td>NaN</td>\n",
       "      <td>NaN</td>\n",
       "    </tr>\n",
       "  </tbody>\n",
       "</table>\n",
       "</div>"
      ],
      "text/plain": [
       "    @id                       @type birthDate identifier              name  \\\n",
       "0  #568  [Person, RepositoryObject]      1922  4 _Person  Patricia Colless   \n",
       "\n",
       "                                         description birthPlace  address  \\\n",
       "0  Patricia Colless was born on 1st April, 1922, ...    Croydon  Penrith   \n",
       "\n",
       "  isPrimaryTopicOf.@id authorOf.@id relatedLink.@id  \n",
       "0                 #339          NaN             NaN  "
      ]
     },
     "execution_count": 13,
     "metadata": {},
     "output_type": "execute_result"
    }
   ],
   "source": [
    "# Print the primary object Person with @id #568\n",
    "person = all_data['Person']\n",
    "\n",
    "person.loc[person['@id'] == '#568']"
   ]
  },
  {
   "cell_type": "code",
   "execution_count": null,
   "id": "bec7f8cb",
   "metadata": {},
   "outputs": [],
   "source": [
    "new = pd.merge(left=all_data['TextDialogue'], right=all_data['Person'], left_on=\"speaker.@id\", right_on=\"@id\",\n",
    "               suffixes=('_artefact', '_speaker'), how='inner')\n",
    "\n",
    "# Print the new dataframe\n",
    "new"
   ]
  },
  {
   "cell_type": "markdown",
   "id": "d90383f7",
   "metadata": {},
   "source": [
    "## Statistical Summaries\n",
    "\n",
    "In the metadata there is a key called \"birthDate\" which is a string that only has the birth year of the speaker. One of the birthDate values in the metadata has a string value \"c 1924\", instead of a simply sequence of digits there is, as shown when the list of birthDates are printed\n",
    "\n",
    "### Birth Year"
   ]
  },
  {
   "cell_type": "code",
   "execution_count": 15,
   "id": "fab69034",
   "metadata": {},
   "outputs": [
    {
     "data": {
      "text/plain": [
       "0       1922\n",
       "1     c 1924\n",
       "2       1945\n",
       "3       1908\n",
       "4       1914\n",
       "5       1918\n",
       "6       1926\n",
       "7       1916\n",
       "8       1926\n",
       "9       1913\n",
       "10      1920\n",
       "11      1927\n",
       "12      1918\n",
       "13      1921\n",
       "14      1920\n",
       "15      1908\n",
       "16      1937\n",
       "17      1913\n",
       "18      1929\n",
       "19      1924\n",
       "20      1929\n",
       "21      1918\n",
       "22      1929\n",
       "23      1924\n",
       "24      1925\n",
       "25      1930\n",
       "26      1911\n",
       "27      1932\n",
       "28      1929\n",
       "29      1908\n",
       "30      1914\n",
       "31      1922\n",
       "32      1926\n",
       "Name: birthDate, dtype: object"
      ]
     },
     "execution_count": 15,
     "metadata": {},
     "output_type": "execute_result"
    }
   ],
   "source": [
    "# Print the birth year of all the interviewees\n",
    "new.birthDate"
   ]
  },
  {
   "cell_type": "markdown",
   "id": "3d776856",
   "metadata": {},
   "source": [
    "The value \"c 1924\" needs to be normalised as a regular looking year, ie 4 numbers in a sequence. This can be done by simply only allowing the last 4 characters in any string that is a birthDate. For example if year0 = \"1918\" and year1 = \"c 1924\" and we only take the last 4 characters, then year0[-4:] = \"1918\" and year1[-4:] = \"1924\".\n",
    "\n",
    "'birthDate' only has the year listed as a text string (str), therefore we need to convert the birthDate value from str to an integer (int) if we want to do any statistical operations based on birthDate. This conversion can be done by 'type casting', eg, if year is a string that has the value \"1924\", we simply impose the type int(), such as int(year), so the string year = \"1924\" => integer, year = 1924, which is then a number (not a string) that can undergo maths operations.\n",
    "\n",
    "The function int(...) in the following line imposes an integer type conversion. That is, int(x) converts x from whatever type it is into an integer, as long as it makes sense for x to be converted into an integer. For example if x = \"abc\", then it would be impossible to know what value x would have as an integer. But if a string x = \"1924\", then the integer would have the value 1924.\n"
   ]
  },
  {
   "cell_type": "code",
   "execution_count": 16,
   "id": "8b7feefc",
   "metadata": {},
   "outputs": [
    {
     "data": {
      "text/plain": [
       "0     1922\n",
       "1     1924\n",
       "2     1945\n",
       "3     1908\n",
       "4     1914\n",
       "5     1918\n",
       "6     1926\n",
       "7     1916\n",
       "8     1926\n",
       "9     1913\n",
       "10    1920\n",
       "11    1927\n",
       "12    1918\n",
       "13    1921\n",
       "14    1920\n",
       "15    1908\n",
       "16    1937\n",
       "17    1913\n",
       "18    1929\n",
       "19    1924\n",
       "20    1929\n",
       "21    1918\n",
       "22    1929\n",
       "23    1924\n",
       "24    1925\n",
       "25    1930\n",
       "26    1911\n",
       "27    1932\n",
       "28    1929\n",
       "29    1908\n",
       "30    1914\n",
       "31    1922\n",
       "32    1926\n",
       "Name: birthDate, dtype: int64"
      ]
     },
     "execution_count": 16,
     "metadata": {},
     "output_type": "execute_result"
    }
   ],
   "source": [
    "# Normalising the birth year and casting them as integers\n",
    "new['birthDate'] = new['birthDate'].apply(lambda year: int(year[-4:]))\n",
    "new.birthDate"
   ]
  },
  {
   "cell_type": "markdown",
   "id": "84b6ac2d",
   "metadata": {},
   "source": [
    "<div class=\"alert alert-block alert-info\">\n",
    "<b>Python Library: datetime</b> \n",
    "\n",
    "<br>    \n",
    "    \n",
    "The library datetime can provide the current date and time and allows us to do calculations over any date and time, such as determining the difference between time zones.\n",
    "<br>    \n",
    "</div>"
   ]
  },
  {
   "cell_type": "code",
   "execution_count": 17,
   "id": "20a49e82",
   "metadata": {},
   "outputs": [
    {
     "data": {
      "text/plain": [
       "[99,\n",
       " 97,\n",
       " 76,\n",
       " 113,\n",
       " 107,\n",
       " 103,\n",
       " 95,\n",
       " 105,\n",
       " 95,\n",
       " 108,\n",
       " 101,\n",
       " 94,\n",
       " 103,\n",
       " 100,\n",
       " 101,\n",
       " 113,\n",
       " 84,\n",
       " 108,\n",
       " 92,\n",
       " 97,\n",
       " 92,\n",
       " 103,\n",
       " 92,\n",
       " 97,\n",
       " 96,\n",
       " 91,\n",
       " 110,\n",
       " 89,\n",
       " 92,\n",
       " 113,\n",
       " 107,\n",
       " 99,\n",
       " 95]"
      ]
     },
     "execution_count": 17,
     "metadata": {},
     "output_type": "execute_result"
    }
   ],
   "source": [
    "# Import the module\n",
    "import datetime\n",
    "\n",
    "# We can calculate the mean (average) age\n",
    "this_year = datetime.datetime.now().year\n",
    "# Create a list called 'age' which takes every year in birth_year as y. Then get this_year and minus that\n",
    "# number from year y and make sure all those numbers are stored in a list, which is why we have [] around the\n",
    "# whole sequence of instructions below.\n",
    "age = [this_year - y for y in new.birthDate]\n",
    "\n",
    "# Print the list of the age of all the speakers if they were all alive today\n",
    "age"
   ]
  },
  {
   "cell_type": "markdown",
   "id": "b57e29df",
   "metadata": {},
   "source": [
    "<div class=\"alert alert-block alert-info\">\n",
    "<b>Python Library: statistics</b> \n",
    "\n",
    "<br>    \n",
    "    \n",
    "The statistics library provides functions to calculate simple statistics, such as the mean, mode, standard deviation, etc., over numeric data.<br>    \n",
    "</div>"
   ]
  },
  {
   "cell_type": "code",
   "execution_count": 18,
   "id": "b1d9fb10",
   "metadata": {},
   "outputs": [
    {
     "name": "stdout",
     "output_type": "stream",
     "text": [
      "== AGE ==\n",
      "MEAN: 99\n",
      "MODE: 92\n",
      "MEDIAN: 99\n",
      "STD DEV: 8.5\n",
      "\n",
      "== BIRTH YEAR ==\n",
      "MEAN: 1922\n",
      "MEDIAN: 1922\n",
      "MODE: 1929\n"
     ]
    }
   ],
   "source": [
    "# Import the module\n",
    "import statistics\n",
    "\n",
    "print('== AGE ==')\n",
    "# Print the mean age, which is the average age of all the speakers\n",
    "print('MEAN:', statistics.mean(age))\n",
    "# The mode is the most freqently occur age. That is, there are more speakers of this age than any other.\n",
    "print('MODE:', statistics.mode(age))\n",
    "# The median is the middle value if the age of the participants were listed in order.\n",
    "print('MEDIAN:', statistics.median(age))\n",
    "# The standard deviation is a statistical metric that gives us an indication of how dispersed the age range of the speakers is\n",
    "print('STD DEV:', \"{:.1f}\".format(statistics.stdev(age)))\n",
    "print()\n",
    "\n",
    "print('== BIRTH YEAR ==')\n",
    "# Print the mean, median, mode and standard deviation of the birth year\n",
    "print('MEAN:', statistics.mean(new.birthDate))\n",
    "print('MEDIAN:', statistics.median(new.birthDate))\n",
    "print('MODE:', statistics.mode(new.birthDate))"
   ]
  },
  {
   "cell_type": "markdown",
   "id": "4469449e",
   "metadata": {},
   "source": [
    "<div class=\"alert alert-block alert-info\">\n",
    "<b>The Counter Container</b> \n",
    "\n",
    "<br>    \n",
    "    \n",
    "The Counter container monitors the number of equivalent elements that have been added to it. Learn more about it here: https://docs.python.org/3/library/collections.html#collections.Counter<br>    \n",
    "</div>"
   ]
  },
  {
   "cell_type": "markdown",
   "id": "2f07f71c",
   "metadata": {},
   "source": [
    "### Other Metadata Features: Place\n",
    "\n",
    "There are other metadata columns that require normalising in this dataframe. For example there is a location 'Penrith' as well as 'Kingston, Penrith', and there is a location 'St. Marys' as well as 'St Marys' (no '.'), as shown when you print the 'address' column."
   ]
  },
  {
   "cell_type": "code",
   "execution_count": 19,
   "id": "984b6c2e",
   "metadata": {},
   "outputs": [
    {
     "data": {
      "text/plain": [
       "0                 Penrith\n",
       "1             Pendle Hill\n",
       "2            Quakers Hill\n",
       "3                 Penrith\n",
       "4                Plumpton\n",
       "5                 Penrith\n",
       "6               Blacktown\n",
       "7                 Penrith\n",
       "8               Blacktown\n",
       "9              Emu Plains\n",
       "10              Mt Druitt\n",
       "11           Quakers Hill\n",
       "12              Blacktown\n",
       "13              Blacktown\n",
       "14             Emu Plains\n",
       "15              Mt Druitt\n",
       "16              Blacktown\n",
       "17              Blacktown\n",
       "18             Riverstone\n",
       "19                Penrith\n",
       "20             Rooty Hill\n",
       "21                Penrith\n",
       "22                Penrith\n",
       "23              Blacktown\n",
       "24                Penrith\n",
       "25              Blacktown\n",
       "26              St. Marys\n",
       "27               St Marys\n",
       "28    Kingswood, Penrith \n",
       "29              Blacktown\n",
       "30              Blacktown\n",
       "31             Emu Plains\n",
       "32               St Marys\n",
       "Name: address, dtype: object"
      ]
     },
     "execution_count": 19,
     "metadata": {},
     "output_type": "execute_result"
    }
   ],
   "source": [
    "new.address"
   ]
  },
  {
   "cell_type": "code",
   "execution_count": 20,
   "id": "6c1183e7",
   "metadata": {},
   "outputs": [
    {
     "data": {
      "text/plain": [
       "0          Penrith\n",
       "1      Pendle Hill\n",
       "2     Quakers Hill\n",
       "3          Penrith\n",
       "4         Plumpton\n",
       "5          Penrith\n",
       "6        Blacktown\n",
       "7          Penrith\n",
       "8        Blacktown\n",
       "9       Emu Plains\n",
       "10       Mt Druitt\n",
       "11    Quakers Hill\n",
       "12       Blacktown\n",
       "13       Blacktown\n",
       "14      Emu Plains\n",
       "15       Mt Druitt\n",
       "16       Blacktown\n",
       "17       Blacktown\n",
       "18      Riverstone\n",
       "19         Penrith\n",
       "20      Rooty Hill\n",
       "21         Penrith\n",
       "22         Penrith\n",
       "23       Blacktown\n",
       "24         Penrith\n",
       "25       Blacktown\n",
       "26        St Marys\n",
       "27        St Marys\n",
       "28         Penrith\n",
       "29       Blacktown\n",
       "30       Blacktown\n",
       "31      Emu Plains\n",
       "32        St Marys\n",
       "Name: address, dtype: object"
      ]
     },
     "execution_count": 20,
     "metadata": {},
     "output_type": "execute_result"
    }
   ],
   "source": [
    "# Let's normalise these locations within the dataframe 'new'\n",
    "# NOTE 'address' is the where the story told in the interview takes place\n",
    "new['address'] = new['address'].apply(lambda place: place.split(',')[-1].replace('.', '').strip())\n",
    "new.address"
   ]
  },
  {
   "cell_type": "code",
   "execution_count": 21,
   "id": "ecf759ee",
   "metadata": {},
   "outputs": [],
   "source": [
    "from collections import Counter\n",
    "\n",
    "place_of_story = new.address\n",
    "place_of_birth = new.birthPlace"
   ]
  },
  {
   "cell_type": "code",
   "execution_count": 22,
   "id": "fece013e",
   "metadata": {},
   "outputs": [
    {
     "name": "stdout",
     "output_type": "stream",
     "text": [
      "{'Blacktown': 10,\n",
      " 'Emu Plains': 3,\n",
      " 'Mt Druitt': 2,\n",
      " 'Pendle Hill': 1,\n",
      " 'Penrith': 9,\n",
      " 'Plumpton': 1,\n",
      " 'Quakers Hill': 2,\n",
      " 'Riverstone': 1,\n",
      " 'Rooty Hill': 1,\n",
      " 'St Marys': 3}\n"
     ]
    }
   ],
   "source": [
    "# How many of the interviews talked about a certain location/city/suburb\n",
    "count_story_place = dict(Counter(new.address))\n",
    "pprint.pp(count_story_place, sort_dicts=True)"
   ]
  },
  {
   "cell_type": "code",
   "execution_count": 23,
   "id": "0173e592",
   "metadata": {},
   "outputs": [
    {
     "name": "stdout",
     "output_type": "stream",
     "text": [
      "{'Ballarat': 1,\n",
      " 'Beelbangera': 1,\n",
      " 'Blacktown': 2,\n",
      " 'Camden': 1,\n",
      " 'Croydon': 1,\n",
      " 'Dubbo': 1,\n",
      " 'England': 1,\n",
      " 'Hornsby': 1,\n",
      " 'Italy': 1,\n",
      " 'Kempsey': 1,\n",
      " 'Lismore': 1,\n",
      " 'Malta': 1,\n",
      " 'Mudgee': 1,\n",
      " 'Neutral Bay': 1,\n",
      " 'Newcastle': 1,\n",
      " 'Newtown': 1,\n",
      " 'Not stated': 3,\n",
      " 'Parramatta': 1,\n",
      " 'Penrith': 4,\n",
      " 'Regentville': 1,\n",
      " 'Riverstone': 2,\n",
      " 'St Marys': 1,\n",
      " 'Sydney': 2,\n",
      " 'Wauchope': 1,\n",
      " 'Wellington': 1}\n"
     ]
    }
   ],
   "source": [
    "# Count place of birth\n",
    "count_birth_place = dict(Counter(new.birthPlace))\n",
    "pprint.pp(count_birth_place, sort_dicts=True)"
   ]
  },
  {
   "cell_type": "markdown",
   "id": "60f949cc",
   "metadata": {},
   "source": [
    "### Cross-cutting 2 features found in the metadata\n",
    "\n"
   ]
  },
  {
   "cell_type": "code",
   "execution_count": 24,
   "id": "d5ed702d",
   "metadata": {},
   "outputs": [
    {
     "name": "stdout",
     "output_type": "stream",
     "text": [
      "2     1945\n",
      "11    1927\n",
      "Name: birthDate, dtype: int64\n"
     ]
    }
   ],
   "source": [
    "# Let's try with 1 suburb, where the suburb = Quakers Hill\n",
    "suburb = new.loc[new['address'] == 'Quakers Hill']\n",
    "# For all stories set in this suburb, print all the storytellers' birth year \n",
    "print(suburb.birthDate)"
   ]
  },
  {
   "cell_type": "code",
   "execution_count": 25,
   "id": "463410bc",
   "metadata": {},
   "outputs": [
    {
     "data": {
      "text/plain": [
       "['Penrith',\n",
       " 'Pendle Hill',\n",
       " 'Quakers Hill',\n",
       " 'Plumpton',\n",
       " 'Blacktown',\n",
       " 'Emu Plains',\n",
       " 'Mt Druitt',\n",
       " 'Riverstone',\n",
       " 'Rooty Hill',\n",
       " 'St Marys']"
      ]
     },
     "execution_count": 25,
     "metadata": {},
     "output_type": "execute_result"
    }
   ],
   "source": [
    "# Print place of story and speaker's birth year\n",
    "all_suburbs = list(count_story_place.keys())\n",
    "all_suburbs"
   ]
  },
  {
   "cell_type": "code",
   "execution_count": 26,
   "id": "76b995d0",
   "metadata": {},
   "outputs": [
    {
     "data": {
      "text/html": [
       "<div>\n",
       "<style scoped>\n",
       "    .dataframe tbody tr th:only-of-type {\n",
       "        vertical-align: middle;\n",
       "    }\n",
       "\n",
       "    .dataframe tbody tr th {\n",
       "        vertical-align: top;\n",
       "    }\n",
       "\n",
       "    .dataframe thead th {\n",
       "        text-align: right;\n",
       "    }\n",
       "</style>\n",
       "<table border=\"1\" class=\"dataframe\">\n",
       "  <thead>\n",
       "    <tr style=\"text-align: right;\">\n",
       "      <th></th>\n",
       "      <th>@id_artefact</th>\n",
       "      <th>@type_artefact</th>\n",
       "      <th>name_artefact</th>\n",
       "      <th>hasFile</th>\n",
       "      <th>dateCreated</th>\n",
       "      <th>interviewer</th>\n",
       "      <th>publisher</th>\n",
       "      <th>description_artefact</th>\n",
       "      <th>speaker.@id</th>\n",
       "      <th>contentLocation.@id</th>\n",
       "      <th>...</th>\n",
       "      <th>@type_speaker</th>\n",
       "      <th>birthDate</th>\n",
       "      <th>identifier</th>\n",
       "      <th>name_speaker</th>\n",
       "      <th>description_speaker</th>\n",
       "      <th>birthPlace</th>\n",
       "      <th>address</th>\n",
       "      <th>isPrimaryTopicOf.@id</th>\n",
       "      <th>authorOf.@id</th>\n",
       "      <th>relatedLink.@id</th>\n",
       "    </tr>\n",
       "  </thead>\n",
       "  <tbody>\n",
       "    <tr>\n",
       "      <th>2</th>\n",
       "      <td>#interview-#430</td>\n",
       "      <td>[RepositoryObject, TextDialogue]</td>\n",
       "      <td>Interview with Judith Eastwell</td>\n",
       "      <td>[{'@id': 'https://oni-dev.text-commons.org/dat...</td>\n",
       "      <td>1992-03-05</td>\n",
       "      <td>Robyn Arrowsmith</td>\n",
       "      <td>University of Western Sydney</td>\n",
       "      <td>Judith Eastwell was born on 14th September, 19...</td>\n",
       "      <td>#571</td>\n",
       "      <td>http://omeka.uws.edu.au/farmstofreeways/api/ge...</td>\n",
       "      <td>...</td>\n",
       "      <td>[Person, RepositoryObject]</td>\n",
       "      <td>1945</td>\n",
       "      <td>33 _Person</td>\n",
       "      <td>Judith Eastwell</td>\n",
       "      <td>Judith Eastwell was born on 14th September, 19...</td>\n",
       "      <td>Not stated</td>\n",
       "      <td>Quakers Hill</td>\n",
       "      <td>#343</td>\n",
       "      <td>NaN</td>\n",
       "      <td>NaN</td>\n",
       "    </tr>\n",
       "    <tr>\n",
       "      <th>11</th>\n",
       "      <td>#interview-#439</td>\n",
       "      <td>[RepositoryObject, TextDialogue]</td>\n",
       "      <td>Interview with Thelma Masters</td>\n",
       "      <td>[{'@id': 'https://oni-dev.text-commons.org/dat...</td>\n",
       "      <td>1992-02-26</td>\n",
       "      <td>Robyn Arrowsmith</td>\n",
       "      <td>University of Western Sydney</td>\n",
       "      <td>Thelma Masters was born on 28th June, 1927. Wh...</td>\n",
       "      <td>#580</td>\n",
       "      <td>http://omeka.uws.edu.au/farmstofreeways/api/ge...</td>\n",
       "      <td>...</td>\n",
       "      <td>[Person, RepositoryObject]</td>\n",
       "      <td>1927</td>\n",
       "      <td>31 _Person</td>\n",
       "      <td>Thelma Masters</td>\n",
       "      <td>Thelma Masters was born on 28th June, 1927. Wh...</td>\n",
       "      <td>Not stated</td>\n",
       "      <td>Quakers Hill</td>\n",
       "      <td>#439</td>\n",
       "      <td>NaN</td>\n",
       "      <td>NaN</td>\n",
       "    </tr>\n",
       "  </tbody>\n",
       "</table>\n",
       "<p>2 rows × 21 columns</p>\n",
       "</div>"
      ],
      "text/plain": [
       "       @id_artefact                    @type_artefact  \\\n",
       "2   #interview-#430  [RepositoryObject, TextDialogue]   \n",
       "11  #interview-#439  [RepositoryObject, TextDialogue]   \n",
       "\n",
       "                     name_artefact  \\\n",
       "2   Interview with Judith Eastwell   \n",
       "11   Interview with Thelma Masters   \n",
       "\n",
       "                                              hasFile dateCreated  \\\n",
       "2   [{'@id': 'https://oni-dev.text-commons.org/dat...  1992-03-05   \n",
       "11  [{'@id': 'https://oni-dev.text-commons.org/dat...  1992-02-26   \n",
       "\n",
       "         interviewer                     publisher  \\\n",
       "2   Robyn Arrowsmith  University of Western Sydney   \n",
       "11  Robyn Arrowsmith  University of Western Sydney   \n",
       "\n",
       "                                 description_artefact speaker.@id  \\\n",
       "2   Judith Eastwell was born on 14th September, 19...        #571   \n",
       "11  Thelma Masters was born on 28th June, 1927. Wh...        #580   \n",
       "\n",
       "                                  contentLocation.@id  ...  \\\n",
       "2   http://omeka.uws.edu.au/farmstofreeways/api/ge...  ...   \n",
       "11  http://omeka.uws.edu.au/farmstofreeways/api/ge...  ...   \n",
       "\n",
       "                 @type_speaker birthDate  identifier     name_speaker  \\\n",
       "2   [Person, RepositoryObject]      1945  33 _Person  Judith Eastwell   \n",
       "11  [Person, RepositoryObject]      1927  31 _Person   Thelma Masters   \n",
       "\n",
       "                                  description_speaker  birthPlace  \\\n",
       "2   Judith Eastwell was born on 14th September, 19...  Not stated   \n",
       "11  Thelma Masters was born on 28th June, 1927. Wh...  Not stated   \n",
       "\n",
       "         address isPrimaryTopicOf.@id authorOf.@id relatedLink.@id  \n",
       "2   Quakers Hill                 #343          NaN             NaN  \n",
       "11  Quakers Hill                 #439          NaN             NaN  \n",
       "\n",
       "[2 rows x 21 columns]"
      ]
     },
     "execution_count": 26,
     "metadata": {},
     "output_type": "execute_result"
    }
   ],
   "source": [
    "names = list(suburb.name_speaker)\n",
    "suburb"
   ]
  },
  {
   "cell_type": "code",
   "execution_count": 27,
   "id": "9c5d37bf",
   "metadata": {},
   "outputs": [
    {
     "data": {
      "text/plain": [
       "['Judith Eastwell', 'Thelma Masters']"
      ]
     },
     "execution_count": 27,
     "metadata": {},
     "output_type": "execute_result"
    }
   ],
   "source": [
    "names"
   ]
  },
  {
   "cell_type": "code",
   "execution_count": 28,
   "id": "1f345d89",
   "metadata": {},
   "outputs": [
    {
     "data": {
      "text/html": [
       "<div>\n",
       "<style scoped>\n",
       "    .dataframe tbody tr th:only-of-type {\n",
       "        vertical-align: middle;\n",
       "    }\n",
       "\n",
       "    .dataframe tbody tr th {\n",
       "        vertical-align: top;\n",
       "    }\n",
       "\n",
       "    .dataframe thead th {\n",
       "        text-align: right;\n",
       "    }\n",
       "</style>\n",
       "<table border=\"1\" class=\"dataframe\">\n",
       "  <thead>\n",
       "    <tr style=\"text-align: right;\">\n",
       "      <th></th>\n",
       "      <th>@id_artefact</th>\n",
       "      <th>@type_artefact</th>\n",
       "      <th>name_artefact</th>\n",
       "      <th>hasFile</th>\n",
       "      <th>dateCreated</th>\n",
       "      <th>interviewer</th>\n",
       "      <th>publisher</th>\n",
       "      <th>description_artefact</th>\n",
       "      <th>speaker.@id</th>\n",
       "      <th>contentLocation.@id</th>\n",
       "      <th>...</th>\n",
       "      <th>@type_speaker</th>\n",
       "      <th>birthDate</th>\n",
       "      <th>identifier</th>\n",
       "      <th>name_speaker</th>\n",
       "      <th>description_speaker</th>\n",
       "      <th>birthPlace</th>\n",
       "      <th>address</th>\n",
       "      <th>isPrimaryTopicOf.@id</th>\n",
       "      <th>authorOf.@id</th>\n",
       "      <th>relatedLink.@id</th>\n",
       "    </tr>\n",
       "  </thead>\n",
       "  <tbody>\n",
       "    <tr>\n",
       "      <th>2</th>\n",
       "      <td>#interview-#430</td>\n",
       "      <td>[RepositoryObject, TextDialogue]</td>\n",
       "      <td>Interview with Judith Eastwell</td>\n",
       "      <td>[{'@id': 'https://oni-dev.text-commons.org/dat...</td>\n",
       "      <td>1992-03-05</td>\n",
       "      <td>Robyn Arrowsmith</td>\n",
       "      <td>University of Western Sydney</td>\n",
       "      <td>Judith Eastwell was born on 14th September, 19...</td>\n",
       "      <td>#571</td>\n",
       "      <td>http://omeka.uws.edu.au/farmstofreeways/api/ge...</td>\n",
       "      <td>...</td>\n",
       "      <td>[Person, RepositoryObject]</td>\n",
       "      <td>1945</td>\n",
       "      <td>33 _Person</td>\n",
       "      <td>Judith Eastwell</td>\n",
       "      <td>Judith Eastwell was born on 14th September, 19...</td>\n",
       "      <td>Not stated</td>\n",
       "      <td>Quakers Hill</td>\n",
       "      <td>#343</td>\n",
       "      <td>NaN</td>\n",
       "      <td>NaN</td>\n",
       "    </tr>\n",
       "    <tr>\n",
       "      <th>11</th>\n",
       "      <td>#interview-#439</td>\n",
       "      <td>[RepositoryObject, TextDialogue]</td>\n",
       "      <td>Interview with Thelma Masters</td>\n",
       "      <td>[{'@id': 'https://oni-dev.text-commons.org/dat...</td>\n",
       "      <td>1992-02-26</td>\n",
       "      <td>Robyn Arrowsmith</td>\n",
       "      <td>University of Western Sydney</td>\n",
       "      <td>Thelma Masters was born on 28th June, 1927. Wh...</td>\n",
       "      <td>#580</td>\n",
       "      <td>http://omeka.uws.edu.au/farmstofreeways/api/ge...</td>\n",
       "      <td>...</td>\n",
       "      <td>[Person, RepositoryObject]</td>\n",
       "      <td>1927</td>\n",
       "      <td>31 _Person</td>\n",
       "      <td>Thelma Masters</td>\n",
       "      <td>Thelma Masters was born on 28th June, 1927. Wh...</td>\n",
       "      <td>Not stated</td>\n",
       "      <td>Quakers Hill</td>\n",
       "      <td>#439</td>\n",
       "      <td>NaN</td>\n",
       "      <td>NaN</td>\n",
       "    </tr>\n",
       "  </tbody>\n",
       "</table>\n",
       "<p>2 rows × 21 columns</p>\n",
       "</div>"
      ],
      "text/plain": [
       "       @id_artefact                    @type_artefact  \\\n",
       "2   #interview-#430  [RepositoryObject, TextDialogue]   \n",
       "11  #interview-#439  [RepositoryObject, TextDialogue]   \n",
       "\n",
       "                     name_artefact  \\\n",
       "2   Interview with Judith Eastwell   \n",
       "11   Interview with Thelma Masters   \n",
       "\n",
       "                                              hasFile dateCreated  \\\n",
       "2   [{'@id': 'https://oni-dev.text-commons.org/dat...  1992-03-05   \n",
       "11  [{'@id': 'https://oni-dev.text-commons.org/dat...  1992-02-26   \n",
       "\n",
       "         interviewer                     publisher  \\\n",
       "2   Robyn Arrowsmith  University of Western Sydney   \n",
       "11  Robyn Arrowsmith  University of Western Sydney   \n",
       "\n",
       "                                 description_artefact speaker.@id  \\\n",
       "2   Judith Eastwell was born on 14th September, 19...        #571   \n",
       "11  Thelma Masters was born on 28th June, 1927. Wh...        #580   \n",
       "\n",
       "                                  contentLocation.@id  ...  \\\n",
       "2   http://omeka.uws.edu.au/farmstofreeways/api/ge...  ...   \n",
       "11  http://omeka.uws.edu.au/farmstofreeways/api/ge...  ...   \n",
       "\n",
       "                 @type_speaker birthDate  identifier     name_speaker  \\\n",
       "2   [Person, RepositoryObject]      1945  33 _Person  Judith Eastwell   \n",
       "11  [Person, RepositoryObject]      1927  31 _Person   Thelma Masters   \n",
       "\n",
       "                                  description_speaker  birthPlace  \\\n",
       "2   Judith Eastwell was born on 14th September, 19...  Not stated   \n",
       "11  Thelma Masters was born on 28th June, 1927. Wh...  Not stated   \n",
       "\n",
       "         address isPrimaryTopicOf.@id authorOf.@id relatedLink.@id  \n",
       "2   Quakers Hill                 #343          NaN             NaN  \n",
       "11  Quakers Hill                 #439          NaN             NaN  \n",
       "\n",
       "[2 rows x 21 columns]"
      ]
     },
     "execution_count": 28,
     "metadata": {},
     "output_type": "execute_result"
    }
   ],
   "source": [
    "place1 = suburb.loc[(suburb['address'] == all_suburbs[2])]\n",
    "place1"
   ]
  },
  {
   "cell_type": "code",
   "execution_count": 29,
   "id": "9b6279fc",
   "metadata": {},
   "outputs": [
    {
     "data": {
      "text/html": [
       "<div>\n",
       "<style scoped>\n",
       "    .dataframe tbody tr th:only-of-type {\n",
       "        vertical-align: middle;\n",
       "    }\n",
       "\n",
       "    .dataframe tbody tr th {\n",
       "        vertical-align: top;\n",
       "    }\n",
       "\n",
       "    .dataframe thead th {\n",
       "        text-align: right;\n",
       "    }\n",
       "</style>\n",
       "<table border=\"1\" class=\"dataframe\">\n",
       "  <thead>\n",
       "    <tr style=\"text-align: right;\">\n",
       "      <th></th>\n",
       "      <th>@id_artefact</th>\n",
       "      <th>@type_artefact</th>\n",
       "      <th>name_artefact</th>\n",
       "      <th>hasFile</th>\n",
       "      <th>dateCreated</th>\n",
       "      <th>interviewer</th>\n",
       "      <th>publisher</th>\n",
       "      <th>description_artefact</th>\n",
       "      <th>speaker.@id</th>\n",
       "      <th>contentLocation.@id</th>\n",
       "      <th>...</th>\n",
       "      <th>@type_speaker</th>\n",
       "      <th>birthDate</th>\n",
       "      <th>identifier</th>\n",
       "      <th>name_speaker</th>\n",
       "      <th>description_speaker</th>\n",
       "      <th>birthPlace</th>\n",
       "      <th>address</th>\n",
       "      <th>isPrimaryTopicOf.@id</th>\n",
       "      <th>authorOf.@id</th>\n",
       "      <th>relatedLink.@id</th>\n",
       "    </tr>\n",
       "  </thead>\n",
       "  <tbody>\n",
       "    <tr>\n",
       "      <th>2</th>\n",
       "      <td>#interview-#430</td>\n",
       "      <td>[RepositoryObject, TextDialogue]</td>\n",
       "      <td>Interview with Judith Eastwell</td>\n",
       "      <td>[{'@id': 'https://oni-dev.text-commons.org/dat...</td>\n",
       "      <td>1992-03-05</td>\n",
       "      <td>Robyn Arrowsmith</td>\n",
       "      <td>University of Western Sydney</td>\n",
       "      <td>Judith Eastwell was born on 14th September, 19...</td>\n",
       "      <td>#571</td>\n",
       "      <td>http://omeka.uws.edu.au/farmstofreeways/api/ge...</td>\n",
       "      <td>...</td>\n",
       "      <td>[Person, RepositoryObject]</td>\n",
       "      <td>1945</td>\n",
       "      <td>33 _Person</td>\n",
       "      <td>Judith Eastwell</td>\n",
       "      <td>Judith Eastwell was born on 14th September, 19...</td>\n",
       "      <td>Not stated</td>\n",
       "      <td>Quakers Hill</td>\n",
       "      <td>#343</td>\n",
       "      <td>NaN</td>\n",
       "      <td>NaN</td>\n",
       "    </tr>\n",
       "  </tbody>\n",
       "</table>\n",
       "<p>1 rows × 21 columns</p>\n",
       "</div>"
      ],
      "text/plain": [
       "      @id_artefact                    @type_artefact  \\\n",
       "2  #interview-#430  [RepositoryObject, TextDialogue]   \n",
       "\n",
       "                    name_artefact  \\\n",
       "2  Interview with Judith Eastwell   \n",
       "\n",
       "                                             hasFile dateCreated  \\\n",
       "2  [{'@id': 'https://oni-dev.text-commons.org/dat...  1992-03-05   \n",
       "\n",
       "        interviewer                     publisher  \\\n",
       "2  Robyn Arrowsmith  University of Western Sydney   \n",
       "\n",
       "                                description_artefact speaker.@id  \\\n",
       "2  Judith Eastwell was born on 14th September, 19...        #571   \n",
       "\n",
       "                                 contentLocation.@id  ...  \\\n",
       "2  http://omeka.uws.edu.au/farmstofreeways/api/ge...  ...   \n",
       "\n",
       "                @type_speaker birthDate  identifier     name_speaker  \\\n",
       "2  [Person, RepositoryObject]      1945  33 _Person  Judith Eastwell   \n",
       "\n",
       "                                 description_speaker  birthPlace  \\\n",
       "2  Judith Eastwell was born on 14th September, 19...  Not stated   \n",
       "\n",
       "        address isPrimaryTopicOf.@id authorOf.@id relatedLink.@id  \n",
       "2  Quakers Hill                 #343          NaN             NaN  \n",
       "\n",
       "[1 rows x 21 columns]"
      ]
     },
     "execution_count": 29,
     "metadata": {},
     "output_type": "execute_result"
    }
   ],
   "source": [
    "place2 = suburb.loc[(suburb['address'] == all_suburbs[2]) & (suburb['name_speaker'] == names[0])]\n",
    "place2"
   ]
  },
  {
   "cell_type": "code",
   "execution_count": null,
   "id": "ce17fdba",
   "metadata": {},
   "outputs": [],
   "source": [
    "# Traverse through the suburbs and print the data we are interested in\n",
    "# In addition, let's save this information in a dictionary called 'suburbs'\n",
    "# so we don't have to bother with dataframes\n",
    "suburbs = dict()\n",
    "for s in all_suburbs:\n",
    "    suburbs[s] = dict()\n",
    "    places = new.loc[(new['address'] == s)]\n",
    "    print('## ===', s, '-- total:', len(places))\n",
    "    # NOTE: index is the internal reference for the row in the dataframe called 'p'\n",
    "    for index, i in places.iterrows():\n",
    "        # initialise each person's info\n",
    "        person = dict()\n",
    "        # name\n",
    "        name = i['name_speaker']\n",
    "        print(name)\n",
    "        # birthPlace\n",
    "        birthPlace = i['birthPlace']\n",
    "        person['birthPlace'] = birthPlace\n",
    "        print(birthPlace)\n",
    "        # birthDate\n",
    "        birthDate = i['birthDate']\n",
    "        person['birthDate'] = birthDate\n",
    "        print(birthDate)        \n",
    "        # dialogue files\n",
    "        files = [f['@id'] for f in i['hasFile'] if f['@id'].endswith('.csv')]\n",
    "        person['files'] = files\n",
    "        print(files)\n",
    "        print()\n",
    "        \n",
    "        suburbs[s].update({name: person})"
   ]
  },
  {
   "cell_type": "code",
   "execution_count": null,
   "id": "0b8468ae",
   "metadata": {},
   "outputs": [],
   "source": [
    "pprint.pprint(suburbs)"
   ]
  },
  {
   "cell_type": "markdown",
   "id": "b5c1c9fb",
   "metadata": {},
   "source": [
    "### Sanity Check\n",
    "\n",
    "Let's print out the information on 1 person to check that our data is looking as we expect it to."
   ]
  },
  {
   "cell_type": "code",
   "execution_count": 32,
   "id": "41f23f11",
   "metadata": {},
   "outputs": [
    {
     "data": {
      "text/plain": [
       "{'birthPlace': 'Italy',\n",
       " 'birthDate': 1914,\n",
       " 'files': ['https://oni-dev.text-commons.org/data/item?id=arcp://name,ATAP/uts.edu.au&file=files/458/original_06694205fd1c7a2f7eacea8646a17d0a.csv']}"
      ]
     },
     "execution_count": 32,
     "metadata": {},
     "output_type": "execute_result"
    }
   ],
   "source": [
    "NAME = 'Amelia Vincent'\n",
    "PLACE = 'Blacktown'\n",
    "\n",
    "# Print the whole dict structure for Amelia Vincent\n",
    "suburbs[PLACE][NAME]"
   ]
  },
  {
   "cell_type": "code",
   "execution_count": 33,
   "id": "e7287e95",
   "metadata": {},
   "outputs": [
    {
     "data": {
      "text/plain": [
       "'Italy'"
      ]
     },
     "execution_count": 33,
     "metadata": {},
     "output_type": "execute_result"
    }
   ],
   "source": [
    "# Print the birthPlace\n",
    "suburbs[PLACE][NAME]['birthPlace']"
   ]
  },
  {
   "cell_type": "code",
   "execution_count": 34,
   "id": "4df72e48",
   "metadata": {},
   "outputs": [
    {
     "data": {
      "text/plain": [
       "1"
      ]
     },
     "execution_count": 34,
     "metadata": {},
     "output_type": "execute_result"
    }
   ],
   "source": [
    "# files are a list, so let's create a list of dataframes to save all the contents of each file\n",
    "dataframes = list()  # we have a list of files so let's save them as a list of dataframes\n",
    "for f in suburbs[PLACE][NAME]['files']:\n",
    "    df = pd.read_csv(f)\n",
    "    df.fillna('', inplace=True)\n",
    "    dataframes.append(df)\n",
    "\n",
    "# How many files are there in the list?\n",
    "len(dataframes)"
   ]
  },
  {
   "cell_type": "code",
   "execution_count": 35,
   "id": "16850d4e",
   "metadata": {},
   "outputs": [
    {
     "data": {
      "text/html": [
       "<div>\n",
       "<style scoped>\n",
       "    .dataframe tbody tr th:only-of-type {\n",
       "        vertical-align: middle;\n",
       "    }\n",
       "\n",
       "    .dataframe tbody tr th {\n",
       "        vertical-align: top;\n",
       "    }\n",
       "\n",
       "    .dataframe thead th {\n",
       "        text-align: right;\n",
       "    }\n",
       "</style>\n",
       "<table border=\"1\" class=\"dataframe\">\n",
       "  <thead>\n",
       "    <tr style=\"text-align: right;\">\n",
       "      <th></th>\n",
       "      <th>time</th>\n",
       "      <th>speaker</th>\n",
       "      <th>text</th>\n",
       "      <th>notes</th>\n",
       "    </tr>\n",
       "  </thead>\n",
       "  <tbody>\n",
       "    <tr>\n",
       "      <th>0</th>\n",
       "      <td></td>\n",
       "      <td></td>\n",
       "      <td></td>\n",
       "      <td>INTERVIEW NO. 30 DATE OF INTERVIEW: 21st Febru...</td>\n",
       "    </tr>\n",
       "    <tr>\n",
       "      <th>1</th>\n",
       "      <td>0.28</td>\n",
       "      <td>B</td>\n",
       "      <td>My name is Amelia Vincent (nee Tester).  I liv...</td>\n",
       "      <td></td>\n",
       "    </tr>\n",
       "    <tr>\n",
       "      <th>2</th>\n",
       "      <td>1.19</td>\n",
       "      <td>A</td>\n",
       "      <td>First of all I'll just ask you a couple of bac...</td>\n",
       "      <td></td>\n",
       "    </tr>\n",
       "    <tr>\n",
       "      <th>3</th>\n",
       "      <td></td>\n",
       "      <td>B</td>\n",
       "      <td>1922.</td>\n",
       "      <td></td>\n",
       "    </tr>\n",
       "    <tr>\n",
       "      <th>4</th>\n",
       "      <td></td>\n",
       "      <td>A</td>\n",
       "      <td>And you moved straight to Blacktown when you c...</td>\n",
       "      <td></td>\n",
       "    </tr>\n",
       "    <tr>\n",
       "      <th>...</th>\n",
       "      <td>...</td>\n",
       "      <td>...</td>\n",
       "      <td>...</td>\n",
       "      <td>...</td>\n",
       "    </tr>\n",
       "    <tr>\n",
       "      <th>433</th>\n",
       "      <td></td>\n",
       "      <td>B</td>\n",
       "      <td>Oh, it was much ... it was hard but it was muc...</td>\n",
       "      <td></td>\n",
       "    </tr>\n",
       "    <tr>\n",
       "      <th>434</th>\n",
       "      <td></td>\n",
       "      <td>A</td>\n",
       "      <td>OK.  Well I think we've just about covered eve...</td>\n",
       "      <td></td>\n",
       "    </tr>\n",
       "    <tr>\n",
       "      <th>435</th>\n",
       "      <td></td>\n",
       "      <td>B</td>\n",
       "      <td>Well that's my life story, I tell you.</td>\n",
       "      <td></td>\n",
       "    </tr>\n",
       "    <tr>\n",
       "      <th>436</th>\n",
       "      <td></td>\n",
       "      <td>A</td>\n",
       "      <td>Unless you can think of anything else you'd pa...</td>\n",
       "      <td></td>\n",
       "    </tr>\n",
       "    <tr>\n",
       "      <th>437</th>\n",
       "      <td></td>\n",
       "      <td>B</td>\n",
       "      <td>21</td>\n",
       "      <td></td>\n",
       "    </tr>\n",
       "  </tbody>\n",
       "</table>\n",
       "<p>438 rows × 4 columns</p>\n",
       "</div>"
      ],
      "text/plain": [
       "     time speaker                                               text  \\\n",
       "0                                                                      \n",
       "1    0.28       B  My name is Amelia Vincent (nee Tester).  I liv...   \n",
       "2    1.19       A  First of all I'll just ask you a couple of bac...   \n",
       "3               B                                             1922.    \n",
       "4               A  And you moved straight to Blacktown when you c...   \n",
       "..    ...     ...                                                ...   \n",
       "433             B  Oh, it was much ... it was hard but it was muc...   \n",
       "434             A  OK.  Well I think we've just about covered eve...   \n",
       "435             B            Well that's my life story, I tell you.    \n",
       "436             A  Unless you can think of anything else you'd pa...   \n",
       "437             B                                                21    \n",
       "\n",
       "                                                 notes  \n",
       "0    INTERVIEW NO. 30 DATE OF INTERVIEW: 21st Febru...  \n",
       "1                                                       \n",
       "2                                                       \n",
       "3                                                       \n",
       "4                                                       \n",
       "..                                                 ...  \n",
       "433                                                     \n",
       "434                                                     \n",
       "435                                                     \n",
       "436                                                     \n",
       "437                                                     \n",
       "\n",
       "[438 rows x 4 columns]"
      ]
     },
     "execution_count": 35,
     "metadata": {},
     "output_type": "execute_result"
    }
   ],
   "source": [
    "# There is only 1 file in the list. Actually there is only ever 1 file in every files list\n",
    "dataframes[0]"
   ]
  },
  {
   "cell_type": "markdown",
   "id": "4b2e8460",
   "metadata": {},
   "source": [
    "## Counting BiGrams\n",
    "\n",
    "Let's use textacy and spacy to process the text from each of the files and count the bigrams.\n",
    "\n",
    "<div class=\"alert alert-block alert-info\">\n",
    "<b>Text Processing</b> \n",
    "<br>    \n",
    "<ul>\n",
    "    <li>textacy: to find bigrams</li>\n",
    "    <li>spacy: to ingest and process the text</li>\n",
    "</ul>    \n",
    "    \n",
    "<br>    \n",
    "</div>"
   ]
  },
  {
   "cell_type": "code",
   "execution_count": 36,
   "id": "bb526f6b",
   "metadata": {},
   "outputs": [],
   "source": [
    "import textacy\n",
    "import spacy\n",
    "\n",
    "# Load the language model\n",
    "nlp = spacy.load(\"en_core_web_sm\")"
   ]
  },
  {
   "cell_type": "code",
   "execution_count": 37,
   "id": "08067302",
   "metadata": {},
   "outputs": [
    {
     "name": "stdout",
     "output_type": "stream",
     "text": [
      "## == BLACKTOWN\n",
      "Marjorie Heath\n",
      "\tCUMULATIVE TOTAL 0\n",
      "Joan Jeffery\n",
      "\tCUMULATIVE TOTAL 152\n",
      "Joyce McKelvey\n",
      "\tCUMULATIVE TOTAL 438\n",
      "Joyce Moon\n",
      "\tCUMULATIVE TOTAL 719\n",
      "Patricia Parker\n",
      "\tCUMULATIVE TOTAL 827\n",
      "Clare Pfoeffer\n",
      "\tCUMULATIVE TOTAL 939\n",
      "Olga Robshaw\n",
      "\tCUMULATIVE TOTAL 1140\n",
      "Marie Sing\n",
      "\tCUMULATIVE TOTAL 1363\n",
      "Edna Vidler\n",
      "\tCUMULATIVE TOTAL 1768\n",
      "Amelia Vincent\n",
      "\tCUMULATIVE TOTAL 2205\n"
     ]
    }
   ],
   "source": [
    "blacktown = list()\n",
    "print('## == BLACKTOWN')\n",
    "for person in suburbs['Blacktown']:\n",
    "    person_data = suburbs['Blacktown'][person]\n",
    "    file = person_data['files'][0]\n",
    "    df = pd.read_csv(file)\n",
    "    df.fillna('', inplace=True)\n",
    "    text = list(df.text)\n",
    "    text.remove('')\n",
    "    blacktown.extend(text)\n",
    "    print(person)\n",
    "    print('\\tCUMULATIVE TOTAL', len(blacktown))"
   ]
  },
  {
   "cell_type": "code",
   "execution_count": 38,
   "id": "f483906b",
   "metadata": {},
   "outputs": [
    {
     "name": "stdout",
     "output_type": "stream",
     "text": [
      "## == Penrith\n",
      "Patricia Colless\n",
      "\tCUMULATIVE TOTAL 148\n",
      "Florence Gibbons\n",
      "\tCUMULATIVE TOTAL 288\n",
      "Betty Hargreaves\n",
      "\tCUMULATIVE TOTAL 548\n",
      "Amy Jackson\n",
      "\tCUMULATIVE TOTAL 946\n",
      "Mary Pike\n",
      "\tCUMULATIVE TOTAL 1208\n",
      "Olive Price\n",
      "\tCUMULATIVE TOTAL 1477\n",
      "Diana Reynolds\n",
      "\tCUMULATIVE TOTAL 1649\n",
      "Doreen Scott\n",
      "\tCUMULATIVE TOTAL 1850\n",
      "Marjory Turner\n",
      "\tCUMULATIVE TOTAL 2062\n"
     ]
    }
   ],
   "source": [
    "penrith = list()\n",
    "print('## == Penrith')\n",
    "for person in suburbs['Penrith']:\n",
    "    person_data = suburbs['Penrith'][person]\n",
    "    file = person_data['files'][0]\n",
    "    df = pd.read_csv(file)\n",
    "    df.fillna('', inplace=True)\n",
    "    text = list(df.text)\n",
    "    text.remove('')\n",
    "    penrith.extend(text)\n",
    "    print(person)\n",
    "    print('\\tCUMULATIVE TOTAL', len(penrith))"
   ]
  },
  {
   "cell_type": "code",
   "execution_count": 39,
   "id": "aecd7d35",
   "metadata": {},
   "outputs": [],
   "source": [
    "text_b = nlp(' '.join(blacktown))\n",
    "ngrams_b = list(textacy.extract.basics.ngrams(text_b, 2, min_freq=10))"
   ]
  },
  {
   "cell_type": "code",
   "execution_count": 40,
   "id": "dbfcb2b4",
   "metadata": {},
   "outputs": [],
   "source": [
    "words_b = [w.text.lower() for w in ngrams_b]"
   ]
  },
  {
   "cell_type": "code",
   "execution_count": 41,
   "id": "3dac705d",
   "metadata": {},
   "outputs": [
    {
     "data": {
      "text/plain": [
       "Counter({'main street': 20,\n",
       "         'patrick street': 10,\n",
       "         'high school': 25,\n",
       "         'shopping centre': 12,\n",
       "         'daily routine': 11,\n",
       "         'school holidays': 10,\n",
       "         'swimming pool': 10,\n",
       "         'health services': 14,\n",
       "         'fuel stove': 14,\n",
       "         'bowling club': 12,\n",
       "         'oh yes': 31,\n",
       "         'sunday school': 10,\n",
       "         'got married': 16,\n",
       "         'years ago': 39,\n",
       "         'seven hills': 18,\n",
       "         'red cross': 11,\n",
       "         'early days': 16,\n",
       "         'market gardens': 13,\n",
       "         'things like': 11,\n",
       "         'little bit': 11})"
      ]
     },
     "execution_count": 41,
     "metadata": {},
     "output_type": "execute_result"
    }
   ],
   "source": [
    "from collections import Counter\n",
    "cb = Counter(words_b)\n",
    "cb"
   ]
  },
  {
   "cell_type": "code",
   "execution_count": 42,
   "id": "0600844f",
   "metadata": {},
   "outputs": [
    {
     "data": {
      "text/plain": [
       "Counter({'long time': 15,\n",
       "         'old home': 10,\n",
       "         'high street': 52,\n",
       "         'castlereagh street': 11,\n",
       "         'high school': 35,\n",
       "         'henry street': 14,\n",
       "         'got married': 13,\n",
       "         'st. marys': 13,\n",
       "         'fuel stove': 18,\n",
       "         'primary school': 12,\n",
       "         'things like': 32,\n",
       "         'come home': 14,\n",
       "         'emu plains': 16,\n",
       "         'governor phillip': 13,\n",
       "         'oh yes': 24,\n",
       "         'station street': 11,\n",
       "         'old days': 16,\n",
       "         'years ago': 24,\n",
       "         'taken place': 12,\n",
       "         'penrith area': 10,\n",
       "         'left school': 10,\n",
       "         'came home': 13,\n",
       "         'little bit': 27})"
      ]
     },
     "execution_count": 42,
     "metadata": {},
     "output_type": "execute_result"
    }
   ],
   "source": [
    "text_p = nlp(' '.join(penrith))\n",
    "ngrams_p = list(textacy.extract.basics.ngrams(text_p, 2, min_freq=10))\n",
    "words_p = [w.text.lower() for w in ngrams_p]\n",
    "cp = Counter(words_p)\n",
    "cp"
   ]
  },
  {
   "cell_type": "code",
   "execution_count": 43,
   "id": "a46bc644",
   "metadata": {},
   "outputs": [
    {
     "data": {
      "text/plain": [
       "['high school',\n",
       " 'got married',\n",
       " 'fuel stove',\n",
       " 'things like',\n",
       " 'oh yes',\n",
       " 'years ago',\n",
       " 'little bit']"
      ]
     },
     "execution_count": 43,
     "metadata": {},
     "output_type": "execute_result"
    }
   ],
   "source": [
    "overlapping = [w for w in cp if w in cb]\n",
    "overlapping"
   ]
  },
  {
   "cell_type": "code",
   "execution_count": 44,
   "id": "409fc340",
   "metadata": {},
   "outputs": [
    {
     "data": {
      "text/plain": [
       "['main street',\n",
       " 'patrick street',\n",
       " 'shopping centre',\n",
       " 'daily routine',\n",
       " 'school holidays',\n",
       " 'swimming pool',\n",
       " 'health services',\n",
       " 'bowling club',\n",
       " 'sunday school',\n",
       " 'seven hills',\n",
       " 'red cross',\n",
       " 'early days',\n",
       " 'market gardens']"
      ]
     },
     "execution_count": 44,
     "metadata": {},
     "output_type": "execute_result"
    }
   ],
   "source": [
    "unique_blacktown = [w for w in cb if w not in cp]\n",
    "unique_blacktown"
   ]
  },
  {
   "cell_type": "code",
   "execution_count": 45,
   "id": "9ec51dda",
   "metadata": {},
   "outputs": [
    {
     "data": {
      "text/plain": [
       "['long time',\n",
       " 'old home',\n",
       " 'high street',\n",
       " 'castlereagh street',\n",
       " 'henry street',\n",
       " 'st. marys',\n",
       " 'primary school',\n",
       " 'come home',\n",
       " 'emu plains',\n",
       " 'governor phillip',\n",
       " 'station street',\n",
       " 'old days',\n",
       " 'taken place',\n",
       " 'penrith area',\n",
       " 'left school',\n",
       " 'came home']"
      ]
     },
     "execution_count": 45,
     "metadata": {},
     "output_type": "execute_result"
    }
   ],
   "source": [
    "unique_penrith = [w for w in cp if w not in cb]\n",
    "unique_penrith"
   ]
  },
  {
   "cell_type": "code",
   "execution_count": 46,
   "id": "2b0eaeae",
   "metadata": {},
   "outputs": [
    {
     "data": {
      "text/plain": [
       "[1908, 1913, 1914, 1918, 1921, 1924, 1926, 1926, 1930, 1937]"
      ]
     },
     "execution_count": 46,
     "metadata": {},
     "output_type": "execute_result"
    }
   ],
   "source": [
    "birth_year_blacktown = [suburbs['Blacktown'][name]['birthDate'] for name in suburbs['Blacktown']]\n",
    "birth_year_blacktown.sort()\n",
    "birth_year_blacktown"
   ]
  },
  {
   "cell_type": "code",
   "execution_count": 47,
   "id": "36b014a5",
   "metadata": {},
   "outputs": [
    {
     "data": {
      "text/plain": [
       "[1908, 1916, 1918, 1918, 1922, 1924, 1925, 1929, 1929]"
      ]
     },
     "execution_count": 47,
     "metadata": {},
     "output_type": "execute_result"
    }
   ],
   "source": [
    "birth_year_penrith = [suburbs['Penrith'][name]['birthDate'] for name in suburbs['Penrith']]\n",
    "birth_year_penrith.sort()\n",
    "birth_year_penrith"
   ]
  },
  {
   "cell_type": "markdown",
   "id": "30e96296",
   "metadata": {},
   "source": [
    "### Counting n-grams for Suburb given Birth Year"
   ]
  },
  {
   "cell_type": "code",
   "execution_count": 48,
   "id": "34978cd7",
   "metadata": {},
   "outputs": [
    {
     "name": "stdout",
     "output_type": "stream",
     "text": [
      "## == BLACKTOWN PRE-1920\n",
      "Joyce McKelvey\n",
      "\tCUMULATIVE TOTAL 286\n",
      "Clare Pfoeffer\n",
      "\tCUMULATIVE TOTAL 398\n",
      "Edna Vidler\n",
      "\tCUMULATIVE TOTAL 803\n",
      "Amelia Vincent\n",
      "\tCUMULATIVE TOTAL 1240\n"
     ]
    }
   ],
   "source": [
    "blacktown_pre20s = list()\n",
    "print('## == BLACKTOWN PRE-1920')\n",
    "for person in suburbs['Blacktown']:\n",
    "    person_data = suburbs['Blacktown'][person]\n",
    "    if person_data['birthDate'] < 1920:\n",
    "        file = person_data['files'][0]\n",
    "        df = pd.read_csv(file)\n",
    "        df.fillna('', inplace=True)\n",
    "        text = list(df.text)\n",
    "        text.remove('')\n",
    "        blacktown_pre20s.extend(text)\n",
    "        print(person)\n",
    "        print('\\tCUMULATIVE TOTAL', len(blacktown_pre20s))"
   ]
  },
  {
   "cell_type": "code",
   "execution_count": 49,
   "id": "bdf2b499",
   "metadata": {},
   "outputs": [
    {
     "name": "stdout",
     "output_type": "stream",
     "text": [
      "## == PENRITH PRE-1920\n",
      "Florence Gibbons\n",
      "\tCUMULATIVE TOTAL 140\n",
      "Betty Hargreaves\n",
      "\tCUMULATIVE TOTAL 400\n",
      "Amy Jackson\n",
      "\tCUMULATIVE TOTAL 798\n",
      "Olive Price\n",
      "\tCUMULATIVE TOTAL 1067\n"
     ]
    }
   ],
   "source": [
    "penrith_pre20s = list()\n",
    "print('## == PENRITH PRE-1920')\n",
    "for person in suburbs['Penrith']:\n",
    "    person_data = suburbs['Penrith'][person]\n",
    "    if person_data['birthDate'] < 1920:\n",
    "        file = person_data['files'][0]\n",
    "        df = pd.read_csv(file)\n",
    "        df.fillna('', inplace=True)\n",
    "        text = list(df.text)\n",
    "        text.remove('')\n",
    "        penrith_pre20s.extend(text)\n",
    "        print(person)\n",
    "        print('\\tCUMULATIVE TOTAL', len(penrith_pre20s))"
   ]
  },
  {
   "cell_type": "code",
   "execution_count": 50,
   "id": "5abee407",
   "metadata": {},
   "outputs": [
    {
     "data": {
      "text/plain": [
       "Counter({'main street': 10,\n",
       "         'fuel stove': 13,\n",
       "         'got married': 11,\n",
       "         'years ago': 34,\n",
       "         'seven hills': 18,\n",
       "         'early days': 14,\n",
       "         'oh yes': 16})"
      ]
     },
     "execution_count": 50,
     "metadata": {},
     "output_type": "execute_result"
    }
   ],
   "source": [
    "text_b20 = nlp(' '.join(blacktown_pre20s))\n",
    "ngrams_b20 = list(textacy.extract.basics.ngrams(text_b20, 2, min_freq=10))\n",
    "words_b20 = [w.text.lower() for w in ngrams_b20]\n",
    "cb20 = Counter(words_b20)\n",
    "cb20"
   ]
  },
  {
   "cell_type": "code",
   "execution_count": 51,
   "id": "5635b3bd",
   "metadata": {},
   "outputs": [
    {
     "data": {
      "text/plain": [
       "Counter({'henry street': 10,\n",
       "         'fuel stove': 12,\n",
       "         'high school': 16,\n",
       "         'high street': 16,\n",
       "         'oh yes': 13,\n",
       "         'years ago': 12,\n",
       "         'old days': 10,\n",
       "         'things like': 16})"
      ]
     },
     "execution_count": 51,
     "metadata": {},
     "output_type": "execute_result"
    }
   ],
   "source": [
    "text_p20 = nlp(' '.join(penrith_pre20s))\n",
    "ngrams_p20 = list(textacy.extract.basics.ngrams(text_p20, 2, min_freq=10))\n",
    "words_p20 = [w.text.lower() for w in ngrams_p20]\n",
    "cp20 = Counter(words_p20)\n",
    "cp20"
   ]
  },
  {
   "cell_type": "markdown",
   "id": "0cafc24e",
   "metadata": {},
   "source": [
    "<div class=\"alert alert-block alert-success\">\n",
    "<b>You Can Extend this Notebook</b> \n",
    "    \n",
    "<ul>\n",
    "<li> You change this notebook studying different suburbs.</li>\n",
    "<li> Rather than examining the vocabulary of those born before 1920, you can look at the stories of those who were born later.</li>\n",
    "<li> Try looking at unigrams or trigrams instead of bigrams.</li>\n",
    "<li> The minimum frequency of bigrams was 10. You can increase or decrease this threshold.</li>\n",
    "</ul>    \n",
    "<br>\n",
    "</div>"
   ]
  }
 ],
 "metadata": {
  "kernelspec": {
   "display_name": "env",
   "language": "python",
   "name": "env"
  },
  "language_info": {
   "codemirror_mode": {
    "name": "ipython",
    "version": 3
   },
   "file_extension": ".py",
   "mimetype": "text/x-python",
   "name": "python",
   "nbconvert_exporter": "python",
   "pygments_lexer": "ipython3",
   "version": "3.8.8"
  }
 },
 "nbformat": 4,
 "nbformat_minor": 5
}
